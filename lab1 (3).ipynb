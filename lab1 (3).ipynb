{
 "cells": [
  {
   "cell_type": "code",
   "execution_count": 111,
   "metadata": {},
   "outputs": [],
   "source": [
    "let sqr x = x * x"
   ]
  },
  {
   "cell_type": "markdown",
   "metadata": {},
   "source": [
    "Math computation"
   ]
  },
  {
   "cell_type": "code",
   "execution_count": 115,
   "metadata": {},
   "outputs": [
    {
     "data": {
      "text/plain": [
       "25164150"
      ]
     },
     "execution_count": 115,
     "metadata": {},
     "output_type": "execute_result"
    }
   ],
   "source": [
    "let n = 100\n",
    "\n",
    "let sqrOfSum = sqr (n * (n + 1) / 2)\n",
    "let sumOfSqr = (n * (n + 1) * (2 * n + 1)) / 6\n",
    " \n",
    "sqrOfSum - squared;"
   ]
  },
  {
   "cell_type": "markdown",
   "metadata": {},
   "source": [
    "Default implementation on sequences"
   ]
  },
  {
   "cell_type": "code",
   "execution_count": 116,
   "metadata": {
    "scrolled": true
   },
   "outputs": [
    {
     "data": {
      "text/plain": [
       "25164150"
      ]
     },
     "execution_count": 116,
     "metadata": {},
     "output_type": "execute_result"
    }
   ],
   "source": [
    "let squareOfSum n =\n",
    "    [1..n]\n",
    "    |> Seq.sum\n",
    "    |> sqr\n",
    "    \n",
    "let sumOfSquares n =\n",
    "    [1..n]\n",
    "    |> Seq.map sqr\n",
    "    |> Seq.sum\n",
    "    \n",
    "squareOfSum 100 - sumOfSquares 100"
   ]
  },
  {
   "cell_type": "markdown",
   "metadata": {},
   "source": [
    "Rewrite sumOfSquares using recursion"
   ]
  },
  {
   "cell_type": "code",
   "execution_count": 117,
   "metadata": {},
   "outputs": [
    {
     "data": {
      "text/plain": [
       "25164150"
      ]
     },
     "execution_count": 117,
     "metadata": {},
     "output_type": "execute_result"
    }
   ],
   "source": [
    "let rec recSumOfSquares n =\n",
    "    match n with\n",
    "    | x when x > 0 -> recSumOfSquares (x - 1) + sqr x\n",
    "    | _ -> 0\n",
    "    \n",
    "squareOfSum 100 - recSumOfSquares 100"
   ]
  },
  {
   "cell_type": "markdown",
   "metadata": {},
   "source": [
    "Add some filtering, oh my god"
   ]
  },
  {
   "cell_type": "code",
   "execution_count": 118,
   "metadata": {},
   "outputs": [
    {
     "data": {
      "text/plain": [
       "25164150"
      ]
     },
     "execution_count": 118,
     "metadata": {},
     "output_type": "execute_result"
    }
   ],
   "source": [
    "let isSquare x =\n",
    "    x = (x |> float |> sqrt |> int |> sqr)\n",
    "\n",
    "let filterSumOfSquares n =\n",
    "    Seq.initInfinite (fun x -> x + 1)\n",
    "    |> Seq.filter isSquare\n",
    "    |> Seq.take n\n",
    "    |> Seq.sum\n",
    "    \n",
    "squareOfSum 100 - filterSumOfSquares 100"
   ]
  },
  {
   "cell_type": "markdown",
   "metadata": {},
   "source": [
    "Some loops"
   ]
  },
  {
   "cell_type": "code",
   "execution_count": 119,
   "metadata": {},
   "outputs": [
    {
     "data": {
      "text/plain": [
       "25164150"
      ]
     },
     "execution_count": 119,
     "metadata": {},
     "output_type": "execute_result"
    }
   ],
   "source": [
    "let loopSumOfSquares n =\n",
    "    let mutable s = 0\n",
    "    for i in [1..n] do\n",
    "        s <- s + sqr i\n",
    "    s\n",
    "    \n",
    "squareOfSum 100 - loopSumOfSquares 100"
   ]
  }
 ],
 "metadata": {
  "kernelspec": {
   "display_name": "F#",
   "language": "fsharp",
   "name": "ifsharp"
  },
  "language": "fsharp",
  "language_info": {
   "codemirror_mode": "",
   "file_extension": ".fs",
   "mimetype": "text/x-fsharp",
   "name": "fsharp",
   "nbconvert_exporter": "",
   "pygments_lexer": "",
   "version": "4.3.1.0"
  },
  "latex_envs": {
   "LaTeX_envs_menu_present": true,
   "autoclose": false,
   "autocomplete": true,
   "bibliofile": "biblio.bib",
   "cite_by": "apalike",
   "current_citInitial": 1,
   "eqLabelWithNumbers": true,
   "eqNumInitial": 1,
   "hotkeys": {
    "equation": "Ctrl-E",
    "itemize": "Ctrl-I"
   },
   "labels_anchors": false,
   "latex_user_defs": false,
   "report_style_numbering": false,
   "user_envs_cfg": false
  }
 },
 "nbformat": 4,
 "nbformat_minor": 2
}
